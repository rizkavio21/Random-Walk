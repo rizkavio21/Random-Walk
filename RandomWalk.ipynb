{
 "cells": [
  {
   "cell_type": "code",
   "execution_count": 1,
   "metadata": {},
   "outputs": [],
   "source": [
    "import numpy as np\n",
    "import matplotlib.pyplot as plt\n",
    "from matplotlib import animation\n",
    "import random\n",
    "import plotly\n",
    "import plotly.graph_objs as go"
   ]
  },
  {
   "cell_type": "code",
   "execution_count": 6,
   "metadata": {},
   "outputs": [],
   "source": [
    "def jumlah(n_iterasi, n_partikel):\n",
    "    \n",
    "    data =[]\n",
    "    x_pos=[]\n",
    "    y_pos=[]\n",
    "    x = np.zeros(n_partikel)\n",
    "    y = np.zeros(n_partikel)\n",
    "    for j in range(n_iterasi):\n",
    "        colors = color_array()\n",
    "        for i in range(n_partikel):\n",
    "            rand = random.uniform(0,1)\n",
    "            #update positition\n",
    "            if (rand <=0.25):\n",
    "                x[i] = x[i] + 1\n",
    "            elif (rand <=0.5):\n",
    "                y[i] = y[i]-1\n",
    "            elif (rand <= 0.75):\n",
    "                x[i] = x[i]-1\n",
    "            else :\n",
    "                y[i] = y[i]+1\n",
    "            x_pos.append(x),\n",
    "            y_pos.append(y),\n",
    "        \n",
    "            trace = go.Scatter(\n",
    "                x = x_pos,\n",
    "                y = y_pos,\n",
    "                marker = dict(color=colors[i]),\n",
    "                line =dict(width=0.3)\n",
    "            )\n",
    "        data.append(trace)\n",
    "    return data"
   ]
  },
  {
   "cell_type": "code",
   "execution_count": 7,
   "metadata": {},
   "outputs": [],
   "source": [
    "def color_array():\n",
    "    color_array = ['aquamarine', 'black', 'blue', 'blueviolet', 'brown','chocolate', 'coral', 'crimson', 'cyan','lime']\n",
    "    np.random.shuffle(color_array)\n",
    "    return color_array"
   ]
  },
  {
   "cell_type": "code",
   "execution_count": 8,
   "metadata": {},
   "outputs": [],
   "source": [
    "def plot(data):\n",
    "    layout = go.Layout(\n",
    "              title='Random Walk',\n",
    "              margin=dict(\n",
    "                  l=0,\n",
    "                  r=0,\n",
    "                  b=25,\n",
    "                  t=50\n",
    "              ),\n",
    "              xaxis=dict(\n",
    "                  title='',\n",
    "                  autorange=True,\n",
    "                  showgrid=False,\n",
    "                  zeroline=False,\n",
    "                  showline=False,\n",
    "                  ticks='',\n",
    "                  showticklabels=False\n",
    "              ),\n",
    "              yaxis=dict(\n",
    "                  title='',\n",
    "                  autorange=True,\n",
    "                  showgrid=False,\n",
    "                  zeroline=False,\n",
    "                  showline=False,\n",
    "                  ticks='',\n",
    "                  showticklabels=False\n",
    "              )\n",
    "          )\n",
    "    fig = go.Figure(data=data, layout=layout)\n",
    "    plotly.offline.plot(fig, filename='Random Walk '+'.html')"
   ]
  },
  {
   "cell_type": "code",
   "execution_count": 9,
   "metadata": {},
   "outputs": [],
   "source": [
    "if __name__ =='__main__':\n",
    "    Data = jumlah(100,10)\n",
    "    plot(Data)"
   ]
  },
  {
   "cell_type": "code",
   "execution_count": 72,
   "metadata": {},
   "outputs": [
    {
     "ename": "NameError",
     "evalue": "name 'fig' is not defined",
     "output_type": "error",
     "traceback": [
      "\u001b[0;31m---------------------------------------------------------------------------\u001b[0m",
      "\u001b[0;31mNameError\u001b[0m                                 Traceback (most recent call last)",
      "\u001b[0;32m<ipython-input-72-2332398418bc>\u001b[0m in \u001b[0;36m<module>\u001b[0;34m\u001b[0m\n\u001b[0;32m----> 1\u001b[0;31m \u001b[0manim\u001b[0m \u001b[0;34m=\u001b[0m \u001b[0manimation\u001b[0m\u001b[0;34m.\u001b[0m\u001b[0mFuncAnimation\u001b[0m\u001b[0;34m(\u001b[0m\u001b[0mfig\u001b[0m\u001b[0;34m,\u001b[0m \u001b[0mrun\u001b[0m\u001b[0;34m,\u001b[0m \u001b[0mframes\u001b[0m\u001b[0;34m=\u001b[0m\u001b[0;36m400\u001b[0m\u001b[0;34m,\u001b[0m \u001b[0minterval\u001b[0m\u001b[0;34m=\u001b[0m\u001b[0;36m100\u001b[0m\u001b[0;34m)\u001b[0m\u001b[0;34m\u001b[0m\u001b[0;34m\u001b[0m\u001b[0m\n\u001b[0m",
      "\u001b[0;31mNameError\u001b[0m: name 'fig' is not defined"
     ]
    }
   ],
   "source": [
    "anim = animation.FuncAnimation(fig, run, frames=400, interval=100)"
   ]
  },
  {
   "cell_type": "code",
   "execution_count": 22,
   "metadata": {},
   "outputs": [
    {
     "data": {
      "image/png": "[encoded data removed]",
      "text/plain": [
       "<Figure size 432x288 with 1 Axes>"
      ]
     },
     "metadata": {
      "needs_background": "light"
     },
     "output_type": "display_data"
    }
   ],
   "source": [
    "# Python code for 2D random walk. \n",
    "import numpy \n",
    "import pylab \n",
    "import random \n",
    "  \n",
    "# defining the number of steps \n",
    "n = 100\n",
    "par = 10\n",
    "  \n",
    "#creating two array for containing x and y coordinate \n",
    "#of size equals to the number of size and filled up with 0's \n",
    "x = numpy.zeros(n) \n",
    "y = numpy.zeros(n) \n",
    "  \n",
    "# filling the coordinates with random variables \n",
    "for i in range(1, n): \n",
    "    for j in range(1,par):\n",
    "        val = random.uniform(0,1) \n",
    "        if val <= 0.25: \n",
    "            x[i] = x[i - 1] + 1\n",
    "            y[i] = y[i - 1] \n",
    "        elif val <= 0.5: \n",
    "            x[i] = x[i - 1] - 1\n",
    "            y[i] = y[i - 1] \n",
    "        elif val <= 0.75: \n",
    "            x[i] = x[i - 1] \n",
    "            y[i] = y[i - 1] + 1\n",
    "        else: \n",
    "            x[i] = x[i - 1] \n",
    "            y[i] = y[i - 1] - 1\n",
    "\n",
    "# plotting stuff: \n",
    "pylab.title(\"Random Walk ($n = \" + str(n) + \"$ steps)\") \n",
    "pylab.plot(x,y) \n",
    "pylab.savefig(\"rand_walk\"+str(n)+\".png\",bbox_inches=\"tight\",dpi=600) \n",
    "pylab.show()"
   ]
  },
  {
   "cell_type": "code",
   "execution_count": null,
   "metadata": {},
   "outputs": [],
   "source": [
    "for k in range(n_iterasi):\n",
    "    py"
   ]
  },
  {
   "cell_type": "code",
   "execution_count": null,
   "metadata": {},
   "outputs": [],
   "source": []
  }
 ],
 "metadata": {
  "kernelspec": {
   "display_name": "Python 3",
   "language": "python",
   "name": "python3"
  },
  "language_info": {
   "codemirror_mode": {
    "name": "ipython",
    "version": 3
   },
   "file_extension": ".py",
   "mimetype": "text/x-python",
   "name": "python",
   "nbconvert_exporter": "python",
   "pygments_lexer": "ipython3",
   "version": "3.7.4"
  }
 },
 "nbformat": 4,
 "nbformat_minor": 4
}
